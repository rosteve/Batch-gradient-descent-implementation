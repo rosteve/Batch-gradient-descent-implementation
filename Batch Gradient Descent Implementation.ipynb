{
 "cells": [
  {
   "cell_type": "code",
   "execution_count": 1,
   "metadata": {
    "ExecuteTime": {
     "end_time": "2018-08-25T03:56:23.993097Z",
     "start_time": "2018-08-25T03:56:23.138209Z"
    }
   },
   "outputs": [],
   "source": [
    "import matplotlib.pyplot as plt\n",
    "import numpy as np\n",
    "import pandas as pd\n",
    "import seaborn as sns\n",
    "import time\n",
    "from scipy import stats \n",
    "from sklearn.datasets.samples_generator import make_regression"
   ]
  },
  {
   "cell_type": "code",
   "execution_count": 2,
   "metadata": {},
   "outputs": [],
   "source": [
    "def compute_cost(X, y, theta):\n",
    "    m = y.size\n",
    "    prediction = X.dot(theta.T)\n",
    "    error = np.power((prediction - y), 2)\n",
    "    cost = np.sum(error) / (2 * m)\n",
    "    return cost"
   ]
  },
  {
   "cell_type": "code",
   "execution_count": 3,
   "metadata": {},
   "outputs": [],
   "source": [
    "def gradient_descent(X, y, theta, learning_rate, iterations):\n",
    "    cost = np.zeros(shape=iterations)\n",
    "    number_of_features = theta.size\n",
    "    for i in range(iterations):\n",
    "        prediction = X.dot(theta.T)\n",
    "        error = prediction - y\n",
    "        for j in range(number_of_features):\n",
    "            temp = np.multiply(error, X[:, j])\n",
    "            theta[0, j] = theta[0, j] - ((learning_rate / len(X)) * np.sum(temp))\n",
    "        cost[i] = compute_cost(X, y, theta)\n",
    "    return theta, cost"
   ]
  },
  {
   "cell_type": "code",
   "execution_count": 4,
   "metadata": {},
   "outputs": [],
   "source": [
    "def plot_graph(iterations, cost):\n",
    "    iteration = np.matrix([i for i in range(iterations)])\n",
    "    plt.plot(iteration.T, cost)\n",
    "    plt.xlabel('Iterations')\n",
    "    plt.ylabel('Cost')\n",
    "    plt.title('Error vs Training')\n",
    "    plt.show()"
   ]
  },
  {
   "cell_type": "code",
   "execution_count": 12,
   "metadata": {},
   "outputs": [],
   "source": [
    "def mean_absolute_error(predictions, real_values):\n",
    "    output_errors = np.average(np.abs(predictions - real_values))\n",
    "    return output_errors"
   ]
  },
  {
   "cell_type": "code",
   "execution_count": 5,
   "metadata": {},
   "outputs": [],
   "source": [
    "data_train = pd.read_csv(\"data/train.csv\")\n",
    "data_test = pd.read_csv(\"data/test.csv\")\n",
    "\n",
    "important_features = ['OverallQual', 'GrLivArea', 'GarageCars', 'TotalBsmtSF', 'FullBath', 'YearBuilt', 'SalePrice']\n",
    "important_features_test = ['OverallQual', 'GrLivArea', 'GarageCars', 'TotalBsmtSF', 'FullBath', 'YearBuilt']\n",
    "\n",
    "data_set = data_train[important_features].copy()\n",
    "data_set_test = data_test[important_features_test].copy()"
   ]
  },
  {
   "cell_type": "code",
   "execution_count": 6,
   "metadata": {},
   "outputs": [],
   "source": [
    "# Find out which columns have null values\n",
    "null_columns = data_set_test.columns[data_set_test.isnull().any(axis=0)]\n",
    "# Find total count of those columns appeared as null in the set\n",
    "null_list = data_set_test[null_columns].isnull().sum().sort_values(ascending=False)\n",
    "# print(\"Missing Attributes: {0}\".format(null_list))\n",
    "data_set_test.loc[data_set_test['TotalBsmtSF'].isnull(), 'TotalBsmtSF'] = 0\n",
    "data_set_test.loc[data_set_test['GarageCars'].isnull(), 'GarageCars'] = 0"
   ]
  },
  {
   "cell_type": "code",
   "execution_count": 7,
   "metadata": {},
   "outputs": [],
   "source": [
    "# Target Variable\n",
    "y = data_set['SalePrice']\n",
    "y = np.matrix(y).T\n",
    "\n",
    "# Features\n",
    "X = data_set.drop(columns='SalePrice')\n",
    "X = (X - X.mean()) / X.std()\n",
    "X.insert(0, \"Intercept\", 1)\n",
    "X = np.matrix(X)\n",
    "\n",
    "# Test Set\n",
    "X_test = data_set_test\n",
    "X_test = (X_test - X_test.mean()) / X_test.std()\n",
    "X_test.insert(0, \"Intercept\", 1)\n",
    "X_test = np.matrix(X_test)"
   ]
  },
  {
   "cell_type": "code",
   "execution_count": 8,
   "metadata": {},
   "outputs": [],
   "source": [
    "# Initial Thetas\n",
    "theta = np.matrix(np.zeros(shape=X.shape[1]))\n",
    "# Parameters\n",
    "learning_rate = 0.01\n",
    "iteration = 500"
   ]
  },
  {
   "cell_type": "code",
   "execution_count": 9,
   "metadata": {},
   "outputs": [
    {
     "name": "stdout",
     "output_type": "stream",
     "text": [
      "\n",
      "Running Linear Regression On Whole Set\n"
     ]
    },
    {
     "data": {
      "image/png": "[encoded data removed]",
      "text/plain": [
       "<Figure size 432x288 with 1 Axes>"
      ]
     },
     "metadata": {
      "needs_background": "light"
     },
     "output_type": "display_data"
    }
   ],
   "source": [
    "print(\"\\nRunning Linear Regression On Whole Set\")\n",
    "result = gradient_descent(X, y, theta, learning_rate, iteration)\n",
    "plot_graph(iteration, result[1])"
   ]
  },
  {
   "cell_type": "code",
   "execution_count": 14,
   "metadata": {},
   "outputs": [
    {
     "name": "stdout",
     "output_type": "stream",
     "text": [
      "Mean Absolute Error: 24520.41694534427\n"
     ]
    }
   ],
   "source": [
    "final_predictions = X.dot(result[0].T)\n",
    "mae = mean_absolute_error(final_predictions, y)\n",
    "print(\"Mean Absolute Error: {0}\".format(mae))"
   ]
  },
  {
   "cell_type": "code",
   "execution_count": 15,
   "metadata": {},
   "outputs": [],
   "source": [
    "prediction_of_test_set = X_test.dot(result[0].T)\n",
    "prediction_df = pd.DataFrame(prediction_of_test_set)\n",
    "prediction_df.columns = ['SalePrice']"
   ]
  },
  {
   "cell_type": "code",
   "execution_count": 18,
   "metadata": {},
   "outputs": [],
   "source": [
    "df_submission = pd.concat([data_test['Id'], prediction_df], axis=1)\n",
    "df_submission.to_csv('data/Submission.csv', index=False)"
   ]
  },
  {
   "cell_type": "code",
   "execution_count": null,
   "metadata": {},
   "outputs": [],
   "source": []
  }
 ],
 "metadata": {
  "gist": {
   "data": {
    "description": "Gradient Descent-Python",
    "public": true
   },
   "id": ""
  },
  "hide_input": false,
  "kernelspec": {
   "display_name": "Python 3",
   "language": "python",
   "name": "python3"
  },
  "language_info": {
   "codemirror_mode": {
    "name": "ipython",
    "version": 3
   },
   "file_extension": ".py",
   "mimetype": "text/x-python",
   "name": "python",
   "nbconvert_exporter": "python",
   "pygments_lexer": "ipython3",
   "version": "3.7.0"
  },
  "toc": {
   "base_numbering": 1,
   "nav_menu": {},
   "number_sections": true,
   "sideBar": true,
   "skip_h1_title": false,
   "title_cell": "Table of Contents",
   "title_sidebar": "Contents",
   "toc_cell": false,
   "toc_position": {
    "height": "calc(100% - 180px)",
    "left": "10px",
    "top": "150px",
    "width": "279.233px"
   },
   "toc_section_display": true,
   "toc_window_display": true
  },
  "varInspector": {
   "cols": {
    "lenName": 16,
    "lenType": 16,
    "lenVar": 40
   },
   "kernels_config": {
    "python": {
     "delete_cmd_postfix": "",
     "delete_cmd_prefix": "del ",
     "library": "var_list.py",
     "varRefreshCmd": "print(var_dic_list())"
    },
    "r": {
     "delete_cmd_postfix": ") ",
     "delete_cmd_prefix": "rm(",
     "library": "var_list.r",
     "varRefreshCmd": "cat(var_dic_list()) "
    }
   },
   "position": {
    "height": "461.183px",
    "left": "846.167px",
    "right": "138.333px",
    "top": "127px",
    "width": "559.667px"
   },
   "types_to_exclude": [
    "module",
    "function",
    "builtin_function_or_method",
    "instance",
    "_Feature"
   ],
   "window_display": false
  }
 },
 "nbformat": 4,
 "nbformat_minor": 2
}
